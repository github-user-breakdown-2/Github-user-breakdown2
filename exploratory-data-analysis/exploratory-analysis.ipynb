{
 "cells": [
  {
   "cell_type": "markdown",
   "metadata": {},
   "source": [
    "Documentation for the GitHub API can be found here https://developer.github.com/v3/\n",
    "\n",
    "\n",
    "Also exploring the PyGitHub module found here https://github.com/PyGithub/PyGithub\n",
    "\n",
    "### GitHub Native API\n",
    "\n",
    "Let's explore GitHub's API first before testing the Python module.\n",
    "\n",
    "The information we need for MVP consists of\n",
    "\n",
    "- username\n",
    "- commit history, broken down by day/hour\n",
    "- languages used in repos\n",
    "\n",
    "For stretch goal\n",
    "\n",
    "- popular user owned repositories\n",
    "- popular repositories that the user contributed to but didn't author\n",
    "\n",
    "Other items?\n",
    "\n",
    "- user avatar"
   ]
  },
  {
   "cell_type": "code",
   "execution_count": 32,
   "metadata": {},
   "outputs": [],
   "source": [
    "# imports\n",
    "import requests\n",
    "import json\n",
    "import pandas as pd\n",
    "import numpy as np"
   ]
  },
  {
   "cell_type": "code",
   "execution_count": 38,
   "metadata": {},
   "outputs": [
    {
     "data": {
      "text/plain": [
       "{'login': 'zangell44',\n",
       " 'id': 42625717,\n",
       " 'node_id': 'MDQ6VXNlcjQyNjI1NzE3',\n",
       " 'avatar_url': 'https://avatars0.githubusercontent.com/u/42625717?v=4',\n",
       " 'gravatar_id': '',\n",
       " 'url': 'https://api.github.com/users/zangell44',\n",
       " 'html_url': 'https://github.com/zangell44',\n",
       " 'followers_url': 'https://api.github.com/users/zangell44/followers',\n",
       " 'following_url': 'https://api.github.com/users/zangell44/following{/other_user}',\n",
       " 'gists_url': 'https://api.github.com/users/zangell44/gists{/gist_id}',\n",
       " 'starred_url': 'https://api.github.com/users/zangell44/starred{/owner}{/repo}',\n",
       " 'subscriptions_url': 'https://api.github.com/users/zangell44/subscriptions',\n",
       " 'organizations_url': 'https://api.github.com/users/zangell44/orgs',\n",
       " 'repos_url': 'https://api.github.com/users/zangell44/repos',\n",
       " 'events_url': 'https://api.github.com/users/zangell44/events{/privacy}',\n",
       " 'received_events_url': 'https://api.github.com/users/zangell44/received_events',\n",
       " 'type': 'User',\n",
       " 'site_admin': False,\n",
       " 'name': 'Zach Angell',\n",
       " 'company': None,\n",
       " 'blog': '',\n",
       " 'location': None,\n",
       " 'email': None,\n",
       " 'hireable': None,\n",
       " 'bio': 'Data Science Student at Lambda School',\n",
       " 'public_repos': 25,\n",
       " 'public_gists': 0,\n",
       " 'followers': 4,\n",
       " 'following': 2,\n",
       " 'created_at': '2018-08-22T23:08:48Z',\n",
       " 'updated_at': '2019-03-09T18:13:58Z'}"
      ]
     },
     "execution_count": 38,
     "metadata": {},
     "output_type": "execute_result"
    }
   ],
   "source": [
    "# get user based on username\n",
    "def get_user(username):\n",
    "    \"\"\"\n",
    "    Returns JSON information for a given GitHub username\n",
    "    \n",
    "    Parameters\n",
    "    ----------\n",
    "    username : str\n",
    "        GitHub username\n",
    "    \n",
    "    Returns\n",
    "    -------\n",
    "    response : json\n",
    "        JSON object containing user information\n",
    "    \"\"\"\n",
    "    r = requests.get('https://api.github.com/users/%s' % username)\n",
    "    \n",
    "    if r.ok:\n",
    "        return r.json()\n",
    "    else: \n",
    "        raise ValueError('GitHub user %s not found' % username)\n",
    "        \n",
    "# testing\n",
    "get_user('zangell44')"
   ]
  },
  {
   "cell_type": "code",
   "execution_count": 23,
   "metadata": {},
   "outputs": [
    {
     "name": "stdout",
     "output_type": "stream",
     "text": [
      "zangell44/DS-Unit-3-Sprint-4-Productization-and-Cloud\n",
      "zangell44/DS-Unit-3-Sprint-4-Productization-and-Cloud\n",
      "zangell44/TwitOff\n",
      "zangell44/TwitOff\n",
      "zangell44/TwitOff\n",
      "zangell44/TwitOff\n",
      "zangell44/TwitOff\n",
      "zangell44/TwitOff\n",
      "zangell44/TwitOff\n",
      "zangell44/TwitOff\n",
      "zangell44/TwitOff\n",
      "zangell44/TwitOff\n"
     ]
    },
    {
     "data": {
      "text/plain": [
       "[{'sha': '108e5d5e4f13aea8f0d4e94e6ea86d7e20255624',\n",
       "  'author': {'email': '42625717+zangell44@users.noreply.github.com',\n",
       "   'name': 'zangell44'},\n",
       "  'message': 'sprint challenge commited',\n",
       "  'distinct': True,\n",
       "  'url': 'https://api.github.com/repos/zangell44/DS-Unit-3-Sprint-4-Productization-and-Cloud/commits/108e5d5e4f13aea8f0d4e94e6ea86d7e20255624'},\n",
       " {'sha': '77024f615dbd434b5b015c91459f7908897e442e',\n",
       "  'author': {'email': '42625717+zangell44@users.noreply.github.com',\n",
       "   'name': 'zangell44'},\n",
       "  'message': 'pulling in aarons edits',\n",
       "  'distinct': True,\n",
       "  'url': 'https://api.github.com/repos/zangell44/DS-Unit-3-Sprint-4-Productization-and-Cloud/commits/77024f615dbd434b5b015c91459f7908897e442e'},\n",
       " {'sha': '8df2560d1e4a19acf380747f4da1ca18717f7ded',\n",
       "  'author': {'email': '42625717+zangell44@users.noreply.github.com',\n",
       "   'name': 'zangell44'},\n",
       "  'message': 'flask sql alchemy included in pipenv',\n",
       "  'distinct': True,\n",
       "  'url': 'https://api.github.com/repos/zangell44/TwitOff/commits/8df2560d1e4a19acf380747f4da1ca18717f7ded'},\n",
       " {'sha': 'c826db0ee919a917c2aa328de5a45c6b9f010267',\n",
       "  'author': {'email': '42625717+zangell44@users.noreply.github.com',\n",
       "   'name': 'zangell44'},\n",
       "  'message': 'initial deployment test',\n",
       "  'distinct': True,\n",
       "  'url': 'https://api.github.com/repos/zangell44/TwitOff/commits/c826db0ee919a917c2aa328de5a45c6b9f010267'},\n",
       " {'sha': 'ee6e536961eb8bf8637784d9f38da949f87234c0',\n",
       "  'author': {'email': '42625717+zangell44@users.noreply.github.com',\n",
       "   'name': 'zangell44'},\n",
       "  'message': 'adding procfile and gunicorn',\n",
       "  'distinct': True,\n",
       "  'url': 'https://api.github.com/repos/zangell44/TwitOff/commits/ee6e536961eb8bf8637784d9f38da949f87234c0'},\n",
       " {'sha': '610f6d2b6a766cb8b8ef13dcb91c634759a95196',\n",
       "  'author': {'email': '42625717+zangell44@users.noreply.github.com',\n",
       "   'name': 'zangell44'},\n",
       "  'message': 'pip files checked in',\n",
       "  'distinct': True,\n",
       "  'url': 'https://api.github.com/repos/zangell44/TwitOff/commits/610f6d2b6a766cb8b8ef13dcb91c634759a95196'},\n",
       " {'sha': 'cb50503f51700e6b2a7ae827959224ee233dc750',\n",
       "  'author': {'email': '42625717+zangell44@users.noreply.github.com',\n",
       "   'name': 'zangell44'},\n",
       "  'message': 'twitter scrapingn updates',\n",
       "  'distinct': True,\n",
       "  'url': 'https://api.github.com/repos/zangell44/TwitOff/commits/cb50503f51700e6b2a7ae827959224ee233dc750'},\n",
       " {'sha': '30b95e208b45cb00e1dcaec1a0fa30e3bbd3d04f',\n",
       "  'author': {'email': '42625717+zangell44@users.noreply.github.com',\n",
       "   'name': 'zangell44'},\n",
       "  'message': 'twitter modeling added, templates updated',\n",
       "  'distinct': True,\n",
       "  'url': 'https://api.github.com/repos/zangell44/TwitOff/commits/30b95e208b45cb00e1dcaec1a0fa30e3bbd3d04f'},\n",
       " {'sha': 'f2373102b7e807b80497418ae91ebdc5c4a19434',\n",
       "  'author': {'email': '42625717+zangell44@users.noreply.github.com',\n",
       "   'name': 'zangell44'},\n",
       "  'message': 'universal layout file created',\n",
       "  'distinct': True,\n",
       "  'url': 'https://api.github.com/repos/zangell44/TwitOff/commits/f2373102b7e807b80497418ae91ebdc5c4a19434'},\n",
       " {'sha': '2c5afc67710950bd4dded14ec1c6ed7f340d9348',\n",
       "  'author': {'email': '42625717+zangell44@users.noreply.github.com',\n",
       "   'name': 'zangell44'},\n",
       "  'message': 'styling and format updates',\n",
       "  'distinct': True,\n",
       "  'url': 'https://api.github.com/repos/zangell44/TwitOff/commits/2c5afc67710950bd4dded14ec1c6ed7f340d9348'},\n",
       " {'sha': '3bf788bda9b6db51a63f116f37f2a619edc5dffc',\n",
       "  'author': {'email': '42625717+zangell44@users.noreply.github.com',\n",
       "   'name': 'zangell44'},\n",
       "  'message': 'styling sheets added',\n",
       "  'distinct': True,\n",
       "  'url': 'https://api.github.com/repos/zangell44/TwitOff/commits/3bf788bda9b6db51a63f116f37f2a619edc5dffc'},\n",
       " {'sha': '46dedc6a214055e99034d92cd6931b3a9d0cfe75',\n",
       "  'author': {'email': '42625717+zangell44@users.noreply.github.com',\n",
       "   'name': 'zangell44'},\n",
       "  'message': 'initial app build',\n",
       "  'distinct': True,\n",
       "  'url': 'https://api.github.com/repos/zangell44/TwitOff/commits/46dedc6a214055e99034d92cd6931b3a9d0cfe75'}]"
      ]
     },
     "execution_count": 23,
     "metadata": {},
     "output_type": "execute_result"
    }
   ],
   "source": [
    "# get commit history from events\n",
    "# THIS WILL NOT WORK SINCE EVENTS HAVE A LIMITED HISTORY\n",
    "# THE LOGIC IS SIMILAR FOR GETTING EVENTS SPECIFIC TO A REPO\n",
    "def get_commits(username):\n",
    "    \"\"\"\n",
    "    Returns commit history for a given GitHub user\n",
    "    \n",
    "    Parameters\n",
    "    ----------\n",
    "    username : str\n",
    "        GitHub username\n",
    "    \n",
    "    Returns\n",
    "    -------\n",
    "    commits : list\n",
    "        List of commits including the repository and date/time\n",
    "    \"\"\"\n",
    "    # get user info \n",
    "    user_info = get_user(username)\n",
    "    # get events for user from Events API\n",
    "    events = requests.get('https://api.github.com/users/%s/events' % username)\n",
    "    \n",
    "    # filter through events to get only commits\n",
    "    commits = []\n",
    "    for event in events.json():\n",
    "        # filter down to push events\n",
    "        if event['type'] == 'PushEvent':\n",
    "            \n",
    "            # repo name for commits\n",
    "            repo = event['repo']['name']\n",
    "            \n",
    "            # loop through commits to get more detailed information\n",
    "            for c in event['payload']['commits']:\n",
    "                # check if this user made the commit\n",
    "                if c['author']['name'] == username and c['distinct']:\n",
    "                    commits.append(c)\n",
    "\n",
    "    # include in commits list a dictionary containing\n",
    "    # the following for each commit\n",
    "    # 1. date and time\n",
    "    # 2. repository to which the commit was made\n",
    "    \n",
    "    return commits\n",
    "\n",
    "# testing\n",
    "get_commits('zangell44')"
   ]
  },
  {
   "cell_type": "code",
   "execution_count": 53,
   "metadata": {},
   "outputs": [
    {
     "data": {
      "text/plain": [
       "'2019-03-07T17:23:04Z'"
      ]
     },
     "execution_count": 53,
     "metadata": {},
     "output_type": "execute_result"
    }
   ],
   "source": [
    "def get_commit_info(repository, commit_sha):\n",
    "    \"\"\"\n",
    "    Gets more specific information for a given commit id\n",
    "    \"\"\"\n",
    "    r = requests.get('https://api.github.com/repos/%s/git/commits/%s' \n",
    "                     % (repository, commit_sha))\n",
    "    if r.ok:\n",
    "        return r.json()\n",
    "    else:\n",
    "        raise ValueError('Could not find commit id % for repository %s'\n",
    "                        % (commit_sha, repository))\n",
    "        \n",
    "def get_commit_date(repository, commit_sha, username=None):\n",
    "    \"\"\"\n",
    "    Gets the commit timestamp and checks if it was committed\n",
    "    by a specific user, if provided\n",
    "    \"\"\"\n",
    "    commit_info = get_commit_info(repository, commit_sha)\n",
    "    if username:\n",
    "        if username != commit_info['committer']['name']:\n",
    "            # TODO better error handling\n",
    "            return None\n",
    "    return commit_info['committer']['date']\n",
    "\n",
    "# testing\n",
    "get_commit_date('zangell44/TwitOff', 'c826db0ee919a917c2aa328de5a45c6b9f010267', 'zangell44')"
   ]
  },
  {
   "cell_type": "code",
   "execution_count": 55,
   "metadata": {},
   "outputs": [
    {
     "ename": "ValueError",
     "evalue": "GitHub user zangell44 not found",
     "output_type": "error",
     "traceback": [
      "\u001b[0;31m---------------------------------------------------------------------------\u001b[0m",
      "\u001b[0;31mValueError\u001b[0m                                Traceback (most recent call last)",
      "\u001b[0;32m<ipython-input-55-b2b430dae005>\u001b[0m in \u001b[0;36m<module>\u001b[0;34m\u001b[0m\n\u001b[1;32m     43\u001b[0m     \u001b[0;32mreturn\u001b[0m \u001b[0mrepo_info\u001b[0m\u001b[0;34m\u001b[0m\u001b[0;34m\u001b[0m\u001b[0m\n\u001b[1;32m     44\u001b[0m \u001b[0;34m\u001b[0m\u001b[0m\n\u001b[0;32m---> 45\u001b[0;31m \u001b[0mget_repo_commits\u001b[0m\u001b[0;34m(\u001b[0m\u001b[0;34m'zangell44'\u001b[0m\u001b[0;34m)\u001b[0m\u001b[0;34m\u001b[0m\u001b[0;34m\u001b[0m\u001b[0m\n\u001b[0m",
      "\u001b[0;32m<ipython-input-55-b2b430dae005>\u001b[0m in \u001b[0;36mget_repo_commits\u001b[0;34m(username)\u001b[0m\n\u001b[1;32m      5\u001b[0m     \"\"\"\n\u001b[1;32m      6\u001b[0m     \u001b[0;31m# get repo url from username\u001b[0m\u001b[0;34m\u001b[0m\u001b[0;34m\u001b[0m\u001b[0;34m\u001b[0m\u001b[0m\n\u001b[0;32m----> 7\u001b[0;31m     \u001b[0mrepo_url\u001b[0m \u001b[0;34m=\u001b[0m \u001b[0mget_user\u001b[0m\u001b[0;34m(\u001b[0m\u001b[0musername\u001b[0m\u001b[0;34m)\u001b[0m\u001b[0;34m[\u001b[0m\u001b[0;34m'repos_url'\u001b[0m\u001b[0;34m]\u001b[0m\u001b[0;34m\u001b[0m\u001b[0;34m\u001b[0m\u001b[0m\n\u001b[0m\u001b[1;32m      8\u001b[0m     \u001b[0mrepos\u001b[0m \u001b[0;34m=\u001b[0m \u001b[0mrequests\u001b[0m\u001b[0;34m.\u001b[0m\u001b[0mget\u001b[0m\u001b[0;34m(\u001b[0m\u001b[0mrepo_url\u001b[0m\u001b[0;34m)\u001b[0m\u001b[0;34m\u001b[0m\u001b[0;34m\u001b[0m\u001b[0m\n\u001b[1;32m      9\u001b[0m \u001b[0;34m\u001b[0m\u001b[0m\n",
      "\u001b[0;32m<ipython-input-38-7bc95e070d7c>\u001b[0m in \u001b[0;36mget_user\u001b[0;34m(username)\u001b[0m\n\u001b[1;32m     19\u001b[0m         \u001b[0;32mreturn\u001b[0m \u001b[0mr\u001b[0m\u001b[0;34m.\u001b[0m\u001b[0mjson\u001b[0m\u001b[0;34m(\u001b[0m\u001b[0;34m)\u001b[0m\u001b[0;34m\u001b[0m\u001b[0;34m\u001b[0m\u001b[0m\n\u001b[1;32m     20\u001b[0m     \u001b[0;32melse\u001b[0m\u001b[0;34m:\u001b[0m\u001b[0;34m\u001b[0m\u001b[0;34m\u001b[0m\u001b[0m\n\u001b[0;32m---> 21\u001b[0;31m         \u001b[0;32mraise\u001b[0m \u001b[0mValueError\u001b[0m\u001b[0;34m(\u001b[0m\u001b[0;34m'GitHub user %s not found'\u001b[0m \u001b[0;34m%\u001b[0m \u001b[0musername\u001b[0m\u001b[0;34m)\u001b[0m\u001b[0;34m\u001b[0m\u001b[0;34m\u001b[0m\u001b[0m\n\u001b[0m\u001b[1;32m     22\u001b[0m \u001b[0;34m\u001b[0m\u001b[0m\n\u001b[1;32m     23\u001b[0m \u001b[0;31m# testing\u001b[0m\u001b[0;34m\u001b[0m\u001b[0;34m\u001b[0m\u001b[0;34m\u001b[0m\u001b[0m\n",
      "\u001b[0;31mValueError\u001b[0m: GitHub user zangell44 not found"
     ]
    }
   ],
   "source": [
    "# parse repositories for commits\n",
    "def get_repo_commits(username):\n",
    "    \"\"\"\n",
    "    Gets list of user repositories\n",
    "    \"\"\"\n",
    "    # get repo url from username\n",
    "    repo_url = get_user(username)['repos_url']\n",
    "    repos = requests.get(repo_url)\n",
    "    \n",
    "    repo_info = []\n",
    "    \n",
    "    # iterate through repos\n",
    "    for r in repos.json():\n",
    "        # track the name, stars, forks\n",
    "        r_dict = {}\n",
    "        r_dict['full_name'] = r['full_name']\n",
    "        # for each repo, look through events\n",
    "        commits = []\n",
    "        events = requests.get(r['events_url'])\n",
    "        # find push events that are\n",
    "        # filter down to push events\n",
    "        for e in events.json():\n",
    "            if e['type'] == 'PushEvent':\n",
    "                # loop through commits to get more detailed information\n",
    "                for c in e['payload']['commits']:\n",
    "                    # check if this user made the commit\n",
    "                    if c['distinct']:\n",
    "                        print (r['full_name'], c['sha'])\n",
    "                        commits.append(get_commit_date(r['full_name'], \n",
    "                                                       c['sha'],\n",
    "                                                       username))\n",
    "        \n",
    "        r_dict['commits'] = commits\n",
    "        \n",
    "        # add dict to list of repos\n",
    "        repo_info.append(r_dict)\n",
    "    \n",
    "    # 1. authored by the username\n",
    "    # 2. distinct\n",
    "    # if (1) and (2), add an item with repo name and time stamp\n",
    "    # time stamp can be found using get_commit_info()\n",
    "    \n",
    "    return repo_info\n",
    "\n",
    "get_repo_commits('zangell44')"
   ]
  },
  {
   "cell_type": "code",
   "execution_count": 15,
   "metadata": {},
   "outputs": [
    {
     "data": {
      "text/plain": [
       "30"
      ]
     },
     "execution_count": 15,
     "metadata": {},
     "output_type": "execute_result"
    }
   ],
   "source": [
    "import requests\n",
    "events = requests.get('https://api.github.com/users/jreback/events/public').json()\n",
    "len(events)"
   ]
  },
  {
   "cell_type": "code",
   "execution_count": 56,
   "metadata": {},
   "outputs": [
    {
     "data": {
      "text/plain": [
       "{'message': \"API rate limit exceeded for 24.34.52.56. (But here's the good news: Authenticated requests get a higher rate limit. Check out the documentation for more details.)\",\n",
       " 'documentation_url': 'https://developer.github.com/v3/#rate-limiting'}"
      ]
     },
     "execution_count": 56,
     "metadata": {},
     "output_type": "execute_result"
    }
   ],
   "source": [
    "requests.get('https://api.github.com/repos/zangell44/AB-Demo/events').json()"
   ]
  },
  {
   "cell_type": "code",
   "execution_count": null,
   "metadata": {},
   "outputs": [],
   "source": []
  }
 ],
 "metadata": {
  "kernelspec": {
   "display_name": "Python 3",
   "language": "python",
   "name": "python3"
  },
  "language_info": {
   "codemirror_mode": {
    "name": "ipython",
    "version": 3
   },
   "file_extension": ".py",
   "mimetype": "text/x-python",
   "name": "python",
   "nbconvert_exporter": "python",
   "pygments_lexer": "ipython3",
   "version": "3.6.8"
  }
 },
 "nbformat": 4,
 "nbformat_minor": 2
}
